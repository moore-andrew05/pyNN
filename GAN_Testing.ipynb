{
 "cells": [
  {
   "cell_type": "code",
   "execution_count": 22,
   "metadata": {},
   "outputs": [],
   "source": [
    "import numpy as np\n",
    "import matplotlib.pyplot as plt\n",
    "import pyGAN\n",
    "import os \n",
    "import preprocessing as pp\n",
    "import importlib"
   ]
  },
  {
   "cell_type": "code",
   "execution_count": 2,
   "metadata": {},
   "outputs": [],
   "source": [
    "path = \"E:/projects/01_DATASETS/01_IMAGES/landscape Images/gray\""
   ]
  },
  {
   "cell_type": "code",
   "execution_count": 3,
   "metadata": {},
   "outputs": [],
   "source": [
    "_filenames = os.listdir(path)\n",
    "data_raw = []\n",
    "for f in _filenames:\n",
    "    im = plt.imread(os.path.join(path, f))\n",
    "    if im.shape[0] == im.shape[1] == 150:\n",
    "        data_raw.append(im)"
   ]
  },
  {
   "cell_type": "code",
   "execution_count": 4,
   "metadata": {},
   "outputs": [],
   "source": [
    "data = np.array(data_raw)"
   ]
  },
  {
   "cell_type": "code",
   "execution_count": 5,
   "metadata": {},
   "outputs": [],
   "source": [
    "train_data = data[:100, :, :]\n",
    "test_data = data[100:120, :, :]"
   ]
  },
  {
   "cell_type": "code",
   "execution_count": 6,
   "metadata": {},
   "outputs": [],
   "source": [
    "Ttrain = train_data.reshape(100, 150*150)\n",
    "Xtest = test_data.reshape(20, 150*150)"
   ]
  },
  {
   "cell_type": "code",
   "execution_count": 7,
   "metadata": {},
   "outputs": [
    {
     "data": {
      "text/plain": [
       "(100, 22500)"
      ]
     },
     "execution_count": 7,
     "metadata": {},
     "output_type": "execute_result"
    }
   ],
   "source": [
    "Ttrain.shape"
   ]
  },
  {
   "cell_type": "code",
   "execution_count": 8,
   "metadata": {},
   "outputs": [
    {
     "data": {
      "text/plain": [
       "(100, 10)"
      ]
     },
     "execution_count": 8,
     "metadata": {},
     "output_type": "execute_result"
    }
   ],
   "source": [
    "Xtrain = np.array([np.random.uniform(0, 1, 10) for i in range(100)])\n",
    "Xtrain.shape"
   ]
  },
  {
   "cell_type": "code",
   "execution_count": 44,
   "metadata": {},
   "outputs": [
    {
     "data": {
      "text/plain": [
       "<module 'pyGAN' from 'e:\\\\projects\\\\pyNN\\\\pyGAN.py'>"
      ]
     },
     "execution_count": 44,
     "metadata": {},
     "output_type": "execute_result"
    }
   ],
   "source": [
    "importlib.reload(pyGAN)"
   ]
  },
  {
   "cell_type": "code",
   "execution_count": 45,
   "metadata": {},
   "outputs": [],
   "source": [
    "nn = pyGAN.pyGAN(10, [10,10,10], [10, 10, 10], 22500)"
   ]
  },
  {
   "cell_type": "code",
   "execution_count": 46,
   "metadata": {},
   "outputs": [
    {
     "ename": "ValueError",
     "evalue": "operands could not be broadcast together with shapes (11,22500) (11,10) (11,22500) ",
     "output_type": "error",
     "traceback": [
      "\u001b[1;31m---------------------------------------------------------------------------\u001b[0m",
      "\u001b[1;31mValueError\u001b[0m                                Traceback (most recent call last)",
      "Cell \u001b[1;32mIn[46], line 1\u001b[0m\n\u001b[1;32m----> 1\u001b[0m nn\u001b[39m.\u001b[39;49mtrain(Xtrain, Ttrain, \u001b[39m100\u001b[39;49m, \u001b[39m0.01\u001b[39;49m)\n",
      "File \u001b[1;32me:\\projects\\pyNN\\pyGAN.py:147\u001b[0m, in \u001b[0;36mpyGAN.train\u001b[1;34m(self, X, T, n_epochs, learning_rate)\u001b[0m\n\u001b[0;32m    145\u001b[0m T_fake \u001b[39m=\u001b[39m np\u001b[39m.\u001b[39mzeros((X\u001b[39m.\u001b[39mshape[\u001b[39m0\u001b[39m], \u001b[39m1\u001b[39m))\n\u001b[0;32m    146\u001b[0m \u001b[39mself\u001b[39m\u001b[39m.\u001b[39mdis_iv \u001b[39m=\u001b[39m \u001b[39mself\u001b[39m\u001b[39m.\u001b[39m_make_indicator_vars(T_fake)\n\u001b[1;32m--> 147\u001b[0m \u001b[39mself\u001b[39;49m\u001b[39m.\u001b[39;49m_bprop(gen_Y, dis_Y, learning_rate, prop_gen\u001b[39m=\u001b[39;49m\u001b[39mTrue\u001b[39;49;00m, X_gen\u001b[39m=\u001b[39;49mX)\n\u001b[0;32m    149\u001b[0m \u001b[39mself\u001b[39m\u001b[39m.\u001b[39mgen_mse_trace\u001b[39m.\u001b[39mappend(\u001b[39mself\u001b[39m\u001b[39m.\u001b[39m_E(X, \u001b[39mself\u001b[39m\u001b[39m.\u001b[39m_standardizeT(T)))\n\u001b[0;32m    152\u001b[0m T_ST \u001b[39m=\u001b[39m \u001b[39mself\u001b[39m\u001b[39m.\u001b[39m_standardizeT(T)\n",
      "File \u001b[1;32me:\\projects\\pyNN\\pyGAN.py:221\u001b[0m, in \u001b[0;36mpyGAN._bprop\u001b[1;34m(self, X, Y, learning_rate, prop_gen, X_gen)\u001b[0m\n\u001b[0;32m    218\u001b[0m \u001b[39mself\u001b[39m\u001b[39m.\u001b[39mdis_Ws[\u001b[39m0\u001b[39m] \u001b[39m-\u001b[39m\u001b[39m=\u001b[39m learning_rate \u001b[39m*\u001b[39m \u001b[39mself\u001b[39m\u001b[39m.\u001b[39m_add_ones(X)\u001b[39m.\u001b[39mT \u001b[39m@\u001b[39m delta\n\u001b[0;32m    220\u001b[0m \u001b[39mif\u001b[39;00m prop_gen:\n\u001b[1;32m--> 221\u001b[0m     \u001b[39mself\u001b[39;49m\u001b[39m.\u001b[39;49m_bprop_gen(X_gen, Y, deltai, learning_rate)\n",
      "File \u001b[1;32me:\\projects\\pyNN\\pyGAN.py:227\u001b[0m, in \u001b[0;36mpyGAN._bprop_gen\u001b[1;34m(self, X, Y, deltai, learning_rate)\u001b[0m\n\u001b[0;32m    224\u001b[0m \u001b[39mdef\u001b[39;00m \u001b[39m_bprop_gen\u001b[39m(\u001b[39mself\u001b[39m, X, Y, deltai, learning_rate):\n\u001b[0;32m    226\u001b[0m     \u001b[39mfor\u001b[39;00m i \u001b[39min\u001b[39;00m \u001b[39mrange\u001b[39m(\u001b[39mlen\u001b[39m(\u001b[39mself\u001b[39m\u001b[39m.\u001b[39mgen_Ws)\u001b[39m-\u001b[39m\u001b[39m1\u001b[39m, \u001b[39m0\u001b[39m, \u001b[39m-\u001b[39m\u001b[39m1\u001b[39m):\n\u001b[1;32m--> 227\u001b[0m         \u001b[39mself\u001b[39m\u001b[39m.\u001b[39mgen_Ws[i] \u001b[39m-\u001b[39m\u001b[39m=\u001b[39m learning_rate \u001b[39m*\u001b[39m \u001b[39mself\u001b[39m\u001b[39m.\u001b[39m_add_ones(\u001b[39mself\u001b[39m\u001b[39m.\u001b[39mgen_Hs[i]) \u001b[39m@\u001b[39m deltai\n\u001b[0;32m    228\u001b[0m         deltai \u001b[39m=\u001b[39m deltai \u001b[39m@\u001b[39m \u001b[39mself\u001b[39m\u001b[39m.\u001b[39mgen_Ws[i][\u001b[39m1\u001b[39m:, :]\u001b[39m.\u001b[39mT \u001b[39m*\u001b[39m \u001b[39mself\u001b[39m\u001b[39m.\u001b[39m_df(\u001b[39mself\u001b[39m\u001b[39m.\u001b[39mgen_Hs[i])\n\u001b[0;32m    230\u001b[0m     \u001b[39mself\u001b[39m\u001b[39m.\u001b[39mgen_Ws[\u001b[39m0\u001b[39m] \u001b[39m-\u001b[39m\u001b[39m=\u001b[39m learning_rate \u001b[39m*\u001b[39m \u001b[39mself\u001b[39m\u001b[39m.\u001b[39m_add_ones(X)\u001b[39m.\u001b[39mT \u001b[39m@\u001b[39m deltai\n",
      "\u001b[1;31mValueError\u001b[0m: operands could not be broadcast together with shapes (11,22500) (11,10) (11,22500) "
     ]
    }
   ],
   "source": [
    "nn.train(Xtrain, Ttrain, 100, 0.01)"
   ]
  }
 ],
 "metadata": {
  "kernelspec": {
   "display_name": "the_basics",
   "language": "python",
   "name": "python3"
  },
  "language_info": {
   "codemirror_mode": {
    "name": "ipython",
    "version": 3
   },
   "file_extension": ".py",
   "mimetype": "text/x-python",
   "name": "python",
   "nbconvert_exporter": "python",
   "pygments_lexer": "ipython3",
   "version": "3.9.17"
  },
  "orig_nbformat": 4
 },
 "nbformat": 4,
 "nbformat_minor": 2
}
